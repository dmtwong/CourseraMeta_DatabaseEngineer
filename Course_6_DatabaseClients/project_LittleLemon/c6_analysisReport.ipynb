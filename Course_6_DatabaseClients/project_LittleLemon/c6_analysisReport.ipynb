{
 "cells": [
  {
   "cell_type": "code",
   "execution_count": 1,
   "id": "f3ef7814",
   "metadata": {},
   "outputs": [],
   "source": [
    "import mysql.connector as connector\n",
    "connection=connector.connect(\n",
    "                             user=\"<USERNAME>\", # use your own\n",
    "                             password=\"<password>\", # use your own\n",
    "                            )\n",
    "cursor = connection.cursor()\n",
    "cursor.execute(\"USE little_lemon_db\")"
   ]
  },
  {
   "cell_type": "code",
   "execution_count": 2,
   "id": "cfefe054",
   "metadata": {},
   "outputs": [
    {
     "name": "stdout",
     "output_type": "stream",
     "text": [
      "[('bookings',), ('employees',), ('menuitems',), ('menus',), ('orders',)]\n"
     ]
    }
   ],
   "source": [
    "#  cursor.execute(\"DROP TABLE IF EXISTS Employees\")\n",
    "# cursor.execute(\"DROP TABLE IF EXISTS Bookings\")\n",
    "cursor.execute(\"SHOW TABLES\")\n",
    "result = cursor.fetchall()\n",
    "print(result)"
   ]
  },
  {
   "cell_type": "code",
   "execution_count": null,
   "id": "aba13fcf",
   "metadata": {},
   "outputs": [],
   "source": [
    "'''\n",
    "create_booking_table = \"\"\"CREATE TABLE Bookings (\n",
    "BookingID INT AUTO_INCREMENT,\n",
    "TableNo INT,\n",
    "GuestFirstName VARCHAR(100) NOT NULL,\n",
    "GuestLastName VARCHAR(100) NOT NULL,\n",
    "BookingSlot TIME NOT NULL,\n",
    "EmployeeID INT,\n",
    "PRIMARY KEY (BookingID)\n",
    ");\"\"\"\n",
    "cursor.execute(create_booking_table)\n",
    "insert_bookings=\"\"\"\n",
    "INSERT INTO Bookings (BookingID, TableNo, GuestFirstName, \n",
    "GuestLastName, BookingSlot, EmployeeID)\n",
    "VALUES\n",
    "(1, 12, 'Anna','Iversen','19:00:00',1),\n",
    "(2, 12, 'Joakim', 'Iversen', '19:00:00', 1),\n",
    "(3, 19, 'Vanessa', 'McCarthy', '15:00:00', 3),\n",
    "(4, 15, 'Marcos', 'Romero', '17:30:00', 4),\n",
    "(5, 5, 'Hiroki', 'Yamane', '18:30:00', 2),\n",
    "(6, 8, 'Diana', 'Pinto', '20:00:00', 5);\"\"\"\n",
    "cursor.execute(insert_bookings)\n",
    "connection.commit()\n",
    "'''"
   ]
  },
  {
   "cell_type": "code",
   "execution_count": null,
   "id": "6e287ed0",
   "metadata": {},
   "outputs": [],
   "source": [
    "# Little Lemon analysis and sales report\n",
    "\n",
    "\"\"\"\"\n",
    "You have gained all the necessary skills and knowledge required \n",
    "to interact with the back-end MySQL database from your Python-based front-end application \n",
    "via the standard database client MySQL Connector/Python. \n",
    "\n",
    "Follow the instructions in the exercises given below and \n",
    "create a Jupyter notebook to produce a Little Lemon analysis and sales report. \n",
    "You need to submit this report for your peers to review.\n",
    "\"\"\""
   ]
  },
  {
   "cell_type": "code",
   "execution_count": 3,
   "id": "489d701d",
   "metadata": {},
   "outputs": [
    {
     "name": "stdout",
     "output_type": "stream",
     "text": [
      "The connection pool is created with a name:  ll_pool_b\n",
      "The pool size is: 2\n"
     ]
    }
   ],
   "source": [
    "# Task 1: Complete the following steps to establish a connection pool:\n",
    "\n",
    "# To create a connection pool, import MySQLConnectionPool class from MySQL Connector/Python.\n",
    "# !pip install mysql-connector-python\n",
    "from mysql.connector.pooling import MySQLConnectionPool\n",
    "\n",
    "# To find the information on the error, import the Error class from MySQL Connector/Python.\n",
    "from mysql.connector import Error\n",
    "\n",
    "# Define your database configurations as a Python dictionary object called dbconfig; PII removed after running\n",
    "dbconfig = {\n",
    "    \"database\":\"little_lemon_db\",\n",
    "    \"user\" : \"<USERNAME>\",\n",
    "    \"password\" : \"<pwd>\"\n",
    "}\n",
    "\n",
    "# Establish a connection pool [pool_name = pool_b] with two connections. \n",
    "# Implement error handling using a try-except block in case the connection fails. \n",
    "\n",
    "try:\n",
    "    pool = MySQLConnectionPool(pool_name = \"ll_pool_b\",\n",
    "                           pool_size = 2, #default is 5\n",
    "                           **dbconfig)\n",
    "    print(\"The connection pool is created with a name: \",pool.pool_name)\n",
    "    print(\"The pool size is:\",pool.pool_size)\n",
    "\n",
    "except Error as er:\n",
    "    print(\"Error code:\", er.errno)\n",
    "    print(\"Error message:\", er.msg)"
   ]
  },
  {
   "cell_type": "code",
   "execution_count": 4,
   "id": "ce5df422",
   "metadata": {},
   "outputs": [],
   "source": [
    "# Recap:\n",
    "import mysql.connector as connector\n",
    "connection=connector.connect(\n",
    "                             # user=\"<USERNAME>\", # use your own\n",
    "                             # password=\"<password>\", # use your own\n",
    "                             user=\"<USERNAME>\", # use your own\n",
    "                             password=\"<PWD>\", # use your own\n",
    "                            )\n",
    "cursor = connection.cursor()\n",
    "cursor.execute(\"USE little_lemon_db\")"
   ]
  },
  {
   "cell_type": "code",
   "execution_count": 5,
   "id": "be17c190",
   "metadata": {},
   "outputs": [
    {
     "name": "stdout",
     "output_type": "stream",
     "text": [
      "[(1, 12, 'Anna', 'Iversen', datetime.timedelta(seconds=68400), 1), (2, 12, 'Joakim', 'Iversen', datetime.timedelta(seconds=68400), 1), (3, 19, 'Vanessa', 'McCarthy', datetime.timedelta(seconds=54000), 3), (4, 15, 'Marcos', 'Romero', datetime.timedelta(seconds=63000), 4), (5, 5, 'Hiroki', 'Yamane', datetime.timedelta(seconds=66600), 2), (6, 8, 'Diana', 'Pinto', datetime.timedelta(seconds=72000), 5)]\n"
     ]
    }
   ],
   "source": [
    "# Recap 2:\n",
    "cursor.execute(\"SELECT * FROM Bookings\")\n",
    "result = cursor.fetchall()\n",
    "print(result)"
   ]
  },
  {
   "cell_type": "code",
   "execution_count": 6,
   "id": "474f5952",
   "metadata": {},
   "outputs": [
    {
     "name": "stdout",
     "output_type": "stream",
     "text": [
      "('BookingID', b'int', 'NO', 'PRI', None, 'auto_increment')\n",
      "('TableNo', b'int', 'YES', '', None, '')\n",
      "('GuestFirstName', b'varchar(100)', 'NO', '', None, '')\n",
      "('GuestLastName', b'varchar(100)', 'NO', '', None, '')\n",
      "('BookingSlot', b'time', 'NO', '', None, '')\n",
      "('EmployeeID', b'int', 'YES', '', None, '')\n"
     ]
    }
   ],
   "source": [
    "# Recap 3:\n",
    "cursor.execute(\"DESC Bookings\")\n",
    "result = cursor.fetchall()\n",
    "for i in result:\n",
    "    print(i) #; drop_query = \"DROP TABLE IF EXISTS \" + i[0];\n",
    "    # print(\"Table: \" + i[0])"
   ]
  },
  {
   "cell_type": "code",
   "execution_count": 7,
   "id": "81ad41c9",
   "metadata": {},
   "outputs": [],
   "source": [
    "# Task 2:\n",
    "# Three guests are trying to book dinner slots simultaneously. \n",
    "# 1. Get the connections from pool_b and\n",
    "# 2. insert the following data in the Bookings table:\n",
    "# Guest 1:\n",
    "# Table Number: 8\n",
    "# First Name: Anees\n",
    "# Last Name: Java\n",
    "# Booking Time: 18:00\n",
    "# EmployeeID: 6\n",
    "\n",
    "# Guest 2:\n",
    "# Table Number: 5\n",
    "# First Name: Bald\n",
    "# Last Name: Vin\n",
    "# Booking Time: 19:00\n",
    "# EmployeeID: 6\n",
    "\n",
    "# Guest 3:\n",
    "# Table Number: 12\n",
    "# First Name: Jay\n",
    "# Last Name: Kon\n",
    "# Booking Time: 19:30 \n",
    "# EmployeeID: 6\n",
    "\n",
    "list_insert = [\"(8, 'Anees', 'Java', '18:00:00', 6)\", \"(5, 'Bald', 'Vin', '19:00:00', 6)\", \"(12, 'Jay', 'Kon', '19:30:00', 6)\"]     "
   ]
  },
  {
   "cell_type": "code",
   "execution_count": 8,
   "id": "63140e5c",
   "metadata": {},
   "outputs": [
    {
     "name": "stdout",
     "output_type": "stream",
     "text": [
      "[('BookingID', b'int', 'NO', 'PRI', None, 'auto_increment'), ('TableNo', b'int', 'YES', '', None, ''), ('GuestFirstName', b'varchar(100)', 'NO', '', None, ''), ('GuestLastName', b'varchar(100)', 'NO', '', None, ''), ('BookingSlot', b'time', 'NO', '', None, ''), ('EmployeeID', b'int', 'YES', '', None, '')]\n"
     ]
    }
   ],
   "source": [
    "cursor = connection.cursor()\n",
    "cursor.execute(\"USE little_lemon_db\")\n",
    "cursor.execute(\"DESC Bookings\")\n",
    "result = cursor.fetchall()\n",
    "print(result)"
   ]
  },
  {
   "cell_type": "code",
   "execution_count": 9,
   "id": "4e8a92df",
   "metadata": {},
   "outputs": [
    {
     "name": "stdout",
     "output_type": "stream",
     "text": [
      "[(8, 'Anees', 'Java', '18:00:00', 6)] is connected.\n",
      "\n",
      "[(5, 'Bald', 'Vin', '19:00:00', 6)] is connected.\n",
      "\n",
      "[(12, 'Jay', 'Kon', '19:30:00', 6)] is connected.\n",
      "\n"
     ]
    }
   ],
   "source": [
    "for i in range(len(list_insert)):\n",
    "    try:\n",
    "        print(\"[{}] is connected.\\n\".format(list_insert[i]))\n",
    "    except:\n",
    "        pass\n",
    "    finally:\n",
    "        pass"
   ]
  },
  {
   "cell_type": "code",
   "execution_count": 10,
   "id": "51654608",
   "metadata": {},
   "outputs": [
    {
     "name": "stdout",
     "output_type": "stream",
     "text": [
      "[<mysql.connector.pooling.PooledMySQLConnection object at 0x000001E731A5BD90>] is connected.\n",
      "\n",
      "[<mysql.connector.pooling.PooledMySQLConnection object at 0x000001E73185F400>] is connected.\n",
      "\n",
      "Adding new connection in the pool.\n",
      "A new connection is added in the pool.\n",
      "\n",
      "[<mysql.connector.pooling.PooledMySQLConnection object at 0x000001E731A43FA0>] is connected.\n",
      "\n"
     ]
    }
   ],
   "source": [
    "for i in range(len(list_insert)):\n",
    "    try:\n",
    "        guest_connected_i = pool.get_connection()\n",
    "        print(\"[{}] is connected.\\n\".format(guest_connected_i))\n",
    "    except:\n",
    "        # TIP: You need to add a connection to connect the third guest.\n",
    "        print(\"Adding new connection in the pool.\")\n",
    "        connection=connector.connect(user = \"<USERNAME>\", password = \"<PWD>\")\n",
    "        pool.add_connection(cnx=connection)\n",
    "        print(\"A new connection is added in the pool.\\n\")\n",
    "        guest_connected_i = pool.get_connection()\n",
    "        print(\"[{}] is connected.\\n\".format(guest_connected_i))\n",
    "        cursor = connection.cursor()\n",
    "        cursor.execute(\"USE little_lemon_db\")\n",
    "    finally:\n",
    "        query_i = \"INSERT INTO Bookings (TableNo, GuestFirstName, GuestLastName, BookingSlot, EmployeeID) VALUES \" + list_insert[i]\n",
    "        cursor.execute(query_i)\n",
    "        connection.commit()"
   ]
  },
  {
   "cell_type": "code",
   "execution_count": 11,
   "id": "783fe8d0",
   "metadata": {},
   "outputs": [
    {
     "name": "stdout",
     "output_type": "stream",
     "text": [
      "[(1, 12, 'Anna', 'Iversen', datetime.timedelta(seconds=68400), 1), (2, 12, 'Joakim', 'Iversen', datetime.timedelta(seconds=68400), 1), (3, 19, 'Vanessa', 'McCarthy', datetime.timedelta(seconds=54000), 3), (4, 15, 'Marcos', 'Romero', datetime.timedelta(seconds=63000), 4), (5, 5, 'Hiroki', 'Yamane', datetime.timedelta(seconds=66600), 2), (6, 8, 'Diana', 'Pinto', datetime.timedelta(seconds=72000), 5), (7, 8, 'Anees', 'Java', datetime.timedelta(seconds=64800), 6), (8, 5, 'Bald', 'Vin', datetime.timedelta(seconds=68400), 6), (9, 12, 'Jay', 'Kon', datetime.timedelta(seconds=70200), 6)]\n"
     ]
    }
   ],
   "source": [
    "# Recap 2:\n",
    "connection=connector.connect(\n",
    "                             user=\"<USERNAME>\", # use your own\n",
    "                             password=\"<password>\", # use your own\n",
    "                            )\n",
    "cursor = connection.cursor()\n",
    "cursor.execute(\"USE little_lemon_db\")\n",
    "cursor.execute(\"SELECT * FROM Bookings\")\n",
    "result = cursor.fetchall()\n",
    "print(result)"
   ]
  },
  {
   "cell_type": "code",
   "execution_count": 12,
   "id": "37779c66",
   "metadata": {},
   "outputs": [
    {
     "data": {
      "text/plain": [
       "['__class__',\n",
       " '__delattr__',\n",
       " '__dict__',\n",
       " '__dir__',\n",
       " '__doc__',\n",
       " '__eq__',\n",
       " '__format__',\n",
       " '__ge__',\n",
       " '__getattribute__',\n",
       " '__gt__',\n",
       " '__hash__',\n",
       " '__init__',\n",
       " '__init_subclass__',\n",
       " '__le__',\n",
       " '__lt__',\n",
       " '__module__',\n",
       " '__ne__',\n",
       " '__new__',\n",
       " '__reduce__',\n",
       " '__reduce_ex__',\n",
       " '__repr__',\n",
       " '__setattr__',\n",
       " '__sizeof__',\n",
       " '__str__',\n",
       " '__subclasshook__',\n",
       " '__weakref__',\n",
       " '_cnx_config',\n",
       " '_cnx_queue',\n",
       " '_config_version',\n",
       " '_pool_name',\n",
       " '_pool_size',\n",
       " '_queue_connection',\n",
       " '_remove_connections',\n",
       " '_reset_session',\n",
       " '_set_pool_name',\n",
       " '_set_pool_size',\n",
       " 'add_connection',\n",
       " 'get_connection',\n",
       " 'pool_name',\n",
       " 'pool_size',\n",
       " 'reset_session',\n",
       " 'set_config']"
      ]
     },
     "execution_count": 12,
     "metadata": {},
     "output_type": "execute_result"
    }
   ],
   "source": [
    "dir(pool)"
   ]
  },
  {
   "cell_type": "code",
   "execution_count": 12,
   "id": "323232e6",
   "metadata": {},
   "outputs": [],
   "source": [
    "# Return all the connections back to the pool. \n",
    "guest_connected_i.close()\n",
    "\n",
    "#TIP: The pool size is two. However, you have three connected users. \n",
    "#You can only return two connections. \n",
    "#Returning a third connection will raise a PoolError. \n",
    "#Use try-except to print the error message.  "
   ]
  },
  {
   "cell_type": "code",
   "execution_count": 13,
   "id": "864f23fe",
   "metadata": {},
   "outputs": [
    {
     "name": "stdout",
     "output_type": "stream",
     "text": [
      "[<mysql.connector.pooling.PooledMySQLConnection object at 0x000001E731A5B2B0>] is connected.\n",
      "\n",
      "Adding new connection in the pool.\n",
      "A new connection is added in the pool.\n",
      "\n",
      "Adding new connection in the pool.\n",
      "A new connection is added in the pool.\n",
      "\n"
     ]
    }
   ],
   "source": [
    "# Testing \n",
    "# Turns out only the last connection is closed\n",
    "\n",
    "for i in range(len(list_insert)):\n",
    "    try:\n",
    "        guest_connected_i = pool.get_connection()\n",
    "        print(\"[{}] is connected.\\n\".format(guest_connected_i))\n",
    "    except:\n",
    "        # TIP: You need to add a connection to connect the third guest.\n",
    "        print(\"Adding new connection in the pool.\")\n",
    "        connection=connector.connect(user = \"<USERNAME>\", password = \"<PWD>\")\n",
    "        pool.add_connection(cnx=connection)\n",
    "        print(\"A new connection is added in the pool.\\n\")\n",
    "        guest_connected_i = pool.get_connection()\n",
    "        # print(\"[{}] is connected.\\n\".format(guest_connected_i))\n",
    "        # cursor = connection.cursor()\n",
    "        # cursor.execute(\"USE little_lemon_db\")\n",
    "    finally:\n",
    "        pass\n",
    "        "
   ]
  },
  {
   "cell_type": "code",
   "execution_count": 9,
   "id": "d9cac910",
   "metadata": {},
   "outputs": [
    {
     "name": "stdout",
     "output_type": "stream",
     "text": [
      "INSERT INTO Bookings (TableNo, GuestFirstName, GuestLastName, BookingSlot, EmployeeID) VALUES (8, 'Anees', 'Java', '18:00:00', 6)\n",
      "INSERT INTO Bookings (TableNo, GuestFirstName, GuestLastName, BookingSlot, EmployeeID) VALUES (5, 'Bald', 'Vin', '19:00:00', 6)\n",
      "INSERT INTO Bookings (TableNo, GuestFirstName, GuestLastName, BookingSlot, EmployeeID) VALUES (12, 'Jay', 'Kon', '19:30:00', 6)\n"
     ]
    }
   ],
   "source": [
    "# Testing\n",
    "list_insert = [\"(8, 'Anees', 'Java', '18:00:00', 6)\", \"(5, 'Bald', 'Vin', '19:00:00', 6)\", \"(12, 'Jay', 'Kon', '19:30:00', 6)\"]\n",
    "for i in list_insert:\n",
    "    str_i = \"INSERT INTO Bookings (TableNo, GuestFirstName, GuestLastName, BookingSlot, EmployeeID) VALUES \" + i\n",
    "    print(str_i)"
   ]
  },
  {
   "cell_type": "code",
   "execution_count": 6,
   "id": "875b3408",
   "metadata": {},
   "outputs": [],
   "source": [
    "# Task 3:\n",
    "# Create a report containing the following information:\n"
   ]
  },
  {
   "cell_type": "code",
   "execution_count": 15,
   "id": "121f22d1",
   "metadata": {},
   "outputs": [
    {
     "name": "stdout",
     "output_type": "stream",
     "text": [
      "[('Mario Gollini', 1)]\n"
     ]
    }
   ],
   "source": [
    "# The name and EmployeeID of the Little Lemon manager.\n",
    "cursor = connection.cursor()\n",
    "cursor.execute('SELECT Name, EmployeeID FROM Employees WHERE Role = \"Manager\"')\n",
    "result_manager = cursor.fetchall()\n",
    "print(result_manager)"
   ]
  },
  {
   "cell_type": "code",
   "execution_count": 16,
   "id": "bf008d94",
   "metadata": {},
   "outputs": [
    {
     "name": "stdout",
     "output_type": "stream",
     "text": [
      "('Mario Gollini', 'Manager')\n"
     ]
    }
   ],
   "source": [
    "# The name and role of the employee who receives the highest salary.\n",
    "cursor.execute(\"SELECT Name, Role FROM Employees WHERE Annual_Salary = (SELECT MAX(Annual_Salary) from Employees)\")\n",
    "result_WageHighest = cursor.fetchall()\n",
    "print(result_WageHighest[0])"
   ]
  },
  {
   "cell_type": "code",
   "execution_count": 17,
   "id": "304261a3",
   "metadata": {},
   "outputs": [
    {
     "name": "stdout",
     "output_type": "stream",
     "text": [
      "(7,)\n"
     ]
    }
   ],
   "source": [
    "# The number of guests booked between 18:00 and 20:00.\n",
    "cursor.execute(\"\"\"SELECT COUNT(*)\n",
    "                FROM Bookings \n",
    "                WHERE BookingID IN \n",
    "                    (SELECT BookingID \n",
    "                    FROM Bookings\n",
    "                    WHERE BookingSlot BETWEEN '18:00:00' AND '20:00:00' )\"\"\")\n",
    "result_EveningCount = cursor.fetchall()\n",
    "print(result_EveningCount[0])"
   ]
  },
  {
   "cell_type": "code",
   "execution_count": 18,
   "id": "ce7a65c1",
   "metadata": {},
   "outputs": [
    {
     "name": "stdout",
     "output_type": "stream",
     "text": [
      "('Anees Java', 7)\n"
     ]
    }
   ],
   "source": [
    "# The full name and BookingID of all guests \n",
    "# waiting to be seated with the receptionist \n",
    "# in sorted order with respect to their BookingSlot.\n",
    "cursor.execute(\"\"\"WITH \n",
    "                    cte_1 AS \n",
    "                        (SELECT CONCAT(GuestFirstName, ' ', GuestLastName) AS FullName, BookingID, BookingSlot\n",
    "                        FROM Bookings \n",
    "                        WHERE EmployeeID = (SELECT EmployeeID \n",
    "                            FROM Employees\n",
    "                            WHERE Role = 'Receptionist' )\n",
    "                            )\n",
    "                    SELECT FullName, BookingID\n",
    "                    FROM cte_1\n",
    "                    ORDER BY BookingSlot\"\"\")\n",
    "result_ToBeSeated = cursor.fetchall()\n",
    "print(result_ToBeSeated[0])"
   ]
  },
  {
   "cell_type": "code",
   "execution_count": 19,
   "id": "27fc4b3e",
   "metadata": {},
   "outputs": [
    {
     "name": "stdout",
     "output_type": "stream",
     "text": [
      "The name of the Little Lemon manager:  Mario Gollini and his/her EmployeeID 1\n",
      "The name and role of the employee who receives the highest salary:  Mario Gollini and his/her role is Manager\n",
      "The number of guests booked between 18:00 and 20:00:  7\n",
      "The guests waiting to be seated with the receptionist in sorted order with respect to their BookingSlot are listed as below: \n",
      "Guest 1 Anees Java with BookingID 7\n",
      "Guest 2 Bald Vin with BookingID 8\n",
      "Guest 3 Jay Kon with BookingID 9\n"
     ]
    }
   ],
   "source": [
    "# Report of Task 3\n",
    "print(\"The name of the Little Lemon manager: \",result_manager[0][0],\"and his/her EmployeeID\", result_manager[0][1])\n",
    "print(\"The name and role of the employee who receives the highest salary: \",result_WageHighest[0][0],\"and his/her role is\", result_WageHighest[0][1])\n",
    "\n",
    "print(\"The number of guests booked between 18:00 and 20:00: \",result_EveningCount[0][0])\n",
    "print(\"The guests waiting to be seated with the receptionist in sorted order with respect to their BookingSlot are listed as below: \")\n",
    "for i in range(len(result_ToBeSeated)):\n",
    "    print(\"Guest\", i + 1, result_ToBeSeated[i][0], 'with BookingID', result_ToBeSeated[i][1])"
   ]
  },
  {
   "cell_type": "code",
   "execution_count": 20,
   "id": "2f1ed7fa",
   "metadata": {},
   "outputs": [],
   "source": [
    "# Task 4:\n",
    "# Create a stored procedure named BasicSalesReport that returns the following statistics:\n",
    "# Total sales\n",
    "# Average sale\n",
    "# Minimum bill paid\n",
    "# Maximum bill paid\n",
    "\n",
    "# , AVG(BillAmount) AS AverageSales, MAX(BillAmount) AS MaximumSales, MIN(BillAmount) AS MinimumSales\n",
    "que_cteProc_BasicSalesReport = \"\"\"CREATE PROCEDURE BasicSalesReport()\n",
    "BEGIN\n",
    "SELECT SUM(BillAmount), AVG(BillAmount) AS AverageSales, MAX(BillAmount) AS MaximumSales, MIN(BillAmount) AS MinimumSales\n",
    "FROM Orders;\n",
    "END\n",
    "\"\"\"\n",
    "cursor.execute(que_cteProc_BasicSalesReport)"
   ]
  },
  {
   "cell_type": "code",
   "execution_count": 22,
   "id": "f59fff2e",
   "metadata": {},
   "outputs": [
    {
     "name": "stdout",
     "output_type": "stream",
     "text": [
      "(Decimal('243'), Decimal('48.6000'), 86, 37)\n"
     ]
    }
   ],
   "source": [
    "# Checking\n",
    "cursor.callproc(\"BasicSalesReport\")\n",
    "results = next( cursor.stored_results() )\n",
    "dataset = results.fetchall()\n",
    "for i in dataset:\n",
    "    print(i)"
   ]
  },
  {
   "cell_type": "code",
   "execution_count": 23,
   "id": "85ca1359",
   "metadata": {},
   "outputs": [
    {
     "name": "stdout",
     "output_type": "stream",
     "text": [
      "Total sales: 243.0\n",
      "Average sales: 48.6\n",
      "Minimum bill paid: 37\n",
      "Maximum bill paid: 86\n"
     ]
    }
   ],
   "source": [
    "# Report of Task 4\n",
    "print('Total sales:', float(dataset[0][0]))\n",
    "print('Average sales:', float(dataset[0][1]))\n",
    "print('Minimum bill paid:', (dataset[0][3]))\n",
    "print('Maximum bill paid:', (dataset[0][2]))"
   ]
  },
  {
   "cell_type": "code",
   "execution_count": 25,
   "id": "30e471dd",
   "metadata": {},
   "outputs": [
    {
     "name": "stdout",
     "output_type": "stream",
     "text": [
      "[<mysql.connector.pooling.PooledMySQLConnection object at 0x000001E731875070>] is connected.\n",
      "\n"
     ]
    }
   ],
   "source": [
    "# Task 5:\n",
    "# The output should be as follows:\n",
    "# [BookingSlot]\n",
    "# [Guest_name]\n",
    "# [Assigned to: Employee Name [Employee Role]]\n",
    "\n",
    "# Little Lemon needs to display the next three upcoming bookings from the Bookings table on the kitchen screen \n",
    "# to notify their chefs which orders are due next. To complete this task, carry out the following steps:\n",
    "\n",
    "# STEP 1: Get a connection from the pool.\n",
    "guest_connected_i.close()\n",
    "connected_Notify = pool.get_connection()\n",
    "print(\"[{}] is connected.\\n\".format(connected_Notify))"
   ]
  },
  {
   "cell_type": "code",
   "execution_count": 26,
   "id": "b03f5f93",
   "metadata": {},
   "outputs": [
    {
     "name": "stdout",
     "output_type": "stream",
     "text": [
      "15:00:00\n",
      "Vanessa McCarthy\n",
      "Assigned to: Giorgos Dioudis[Head Chef]\n",
      "17:30:00\n",
      "Marcos Romero\n",
      "Assigned to: Fatma Kaya[Assistant Chef]\n",
      "18:00:00\n",
      "Anees Java\n",
      "Assigned to: John Millar[Receptionist]\n"
     ]
    }
   ],
   "source": [
    "# STEP 2: Create a buffered cursor.\n",
    "buffered_cursor = connected_Notify.cursor(buffered = True)\n",
    "\n",
    "# STEP 3: Combine the data from the Bookings and the Employee tables. \n",
    "# Sort the retrieved records in ascending order. \n",
    "# Then display the information of the first three guests. \n",
    "que_Notify = \"\"\"SELECT Bookings.BookingSlot, Bookings.GuestFirstName, Bookings.GuestLastName,\n",
    "        Employees.Role, Employees.Name\n",
    "        FROM Bookings\n",
    "        INNER JOIN Employees\n",
    "        ON Bookings.EmployeeID = Employees.EmployeeID\n",
    "        ORDER BY Bookings.BookingSlot\"\"\"\n",
    "\n",
    "buffered_cursor.execute(que_Notify)\n",
    "result = buffered_cursor.fetchall()\n",
    "i = 0\n",
    "for book_i in result: \n",
    "    if i == 3:\n",
    "        break       \n",
    "    print(book_i[0])\n",
    "    print(book_i[1] + ' ' + book_i[2])\n",
    "    print(\"Assigned to: \" + book_i[4] + \"[\" + book_i[3] + \"]\")\n",
    "    i += 1"
   ]
  },
  {
   "cell_type": "code",
   "execution_count": 27,
   "id": "7fb4e8f5",
   "metadata": {},
   "outputs": [],
   "source": [
    "# STEP 4: Returned the connection back to the pool.\n",
    "connected_Notify.close()"
   ]
  },
  {
   "cell_type": "code",
   "execution_count": 76,
   "id": "36afaea0",
   "metadata": {},
   "outputs": [
    {
     "data": {
      "text/plain": [
       "mysql.connector.pooling.PooledMySQLConnection"
      ]
     },
     "execution_count": 76,
     "metadata": {},
     "output_type": "execute_result"
    }
   ],
   "source": [
    "type(connected_Notify)"
   ]
  },
  {
   "cell_type": "code",
   "execution_count": 28,
   "id": "08fb3fed",
   "metadata": {},
   "outputs": [
    {
     "name": "stdout",
     "output_type": "stream",
     "text": [
      "connection is returned back to the pool\n"
     ]
    }
   ],
   "source": [
    "try:\n",
    "    isConnected = connected_Notify.is_connected()\n",
    "    print('still connected?: ', isConnected)\n",
    "except:\n",
    "    print('connection is returned back to the pool')"
   ]
  },
  {
   "cell_type": "code",
   "execution_count": null,
   "id": "7063e32d",
   "metadata": {},
   "outputs": [],
   "source": []
  },
  {
   "cell_type": "code",
   "execution_count": null,
   "id": "3180e2b7",
   "metadata": {},
   "outputs": [],
   "source": []
  },
  {
   "cell_type": "code",
   "execution_count": 45,
   "id": "9ba5e7d3",
   "metadata": {},
   "outputs": [
    {
     "data": {
      "text/plain": [
       "[(1, 12, 1, 1, 86, 2),\n",
       " (2, 19, 2, 2, 37, 1),\n",
       " (3, 15, 2, 3, 37, 1),\n",
       " (4, 5, 3, 4, 40, 1),\n",
       " (5, 8, 1, 5, 43, 1)]"
      ]
     },
     "execution_count": 45,
     "metadata": {},
     "output_type": "execute_result"
    }
   ],
   "source": [
    "cursor.fetchall()"
   ]
  },
  {
   "cell_type": "code",
   "execution_count": 46,
   "id": "d681c6aa",
   "metadata": {},
   "outputs": [],
   "source": [
    "# cursor.execute(\"SELECT * FROM Orders\")\n",
    "cursor.callproc(\"BasicSalesReport\")\n",
    "results = next( cursor.stored_results() )"
   ]
  },
  {
   "cell_type": "code",
   "execution_count": 47,
   "id": "efd6b971",
   "metadata": {},
   "outputs": [
    {
     "name": "stdout",
     "output_type": "stream",
     "text": [
      "(Decimal('243'), Decimal('48.6000'), 86, 37)\n"
     ]
    }
   ],
   "source": [
    "for i in results:\n",
    "    print(i)"
   ]
  },
  {
   "cell_type": "code",
   "execution_count": 48,
   "id": "30a57470",
   "metadata": {},
   "outputs": [
    {
     "data": {
      "text/plain": [
       "('OrderID', 'TableNo', 'MenuID', 'BookingID', 'BillAmount', 'Quantity')"
      ]
     },
     "execution_count": 48,
     "metadata": {},
     "output_type": "execute_result"
    }
   ],
   "source": [
    "cursor.column_names"
   ]
  },
  {
   "cell_type": "code",
   "execution_count": 49,
   "id": "f725fc97",
   "metadata": {},
   "outputs": [
    {
     "name": "stdout",
     "output_type": "stream",
     "text": [
      "('little_lemon_db', 'BasicSalesReport', 'PROCEDURE', 'dmtwong@%', datetime.datetime(2024, 11, 20, 12, 19, 7), datetime.datetime(2024, 11, 20, 12, 19, 7), 'DEFINER', b'', 'utf8mb4', 'utf8mb4_0900_ai_ci', 'utf8mb4_0900_ai_ci')\n",
      "('little_lemon_db', 'GuestStatus', 'PROCEDURE', 'dmtwong@%', datetime.datetime(2024, 11, 22, 16, 59, 14), datetime.datetime(2024, 11, 22, 16, 59, 14), 'DEFINER', b'', 'utf8mb4', 'utf8mb4_0900_ai_ci', 'utf8mb4_0900_ai_ci')\n",
      "('little_lemon_db', 'PeakHours', 'PROCEDURE', 'dmtwong@%', datetime.datetime(2024, 11, 19, 15, 45, 46), datetime.datetime(2024, 11, 19, 15, 45, 46), 'DEFINER', b'', 'utf8mb4', 'utf8mb4_0900_ai_ci', 'utf8mb4_0900_ai_ci')\n"
     ]
    }
   ],
   "source": [
    "cursor.execute(\"SHOW PROCEDURE STATUS WHERE Db = 'little_lemon_db'\")\n",
    "results = cursor.fetchall()\n",
    "for i in results:\n",
    "    print(i)"
   ]
  }
 ],
 "metadata": {
  "kernelspec": {
   "display_name": "Python 3",
   "language": "python",
   "name": "python3"
  },
  "language_info": {
   "codemirror_mode": {
    "name": "ipython",
    "version": 3
   },
   "file_extension": ".py",
   "mimetype": "text/x-python",
   "name": "python",
   "nbconvert_exporter": "python",
   "pygments_lexer": "ipython3",
   "version": "3.8.8"
  }
 },
 "nbformat": 4,
 "nbformat_minor": 5
}
