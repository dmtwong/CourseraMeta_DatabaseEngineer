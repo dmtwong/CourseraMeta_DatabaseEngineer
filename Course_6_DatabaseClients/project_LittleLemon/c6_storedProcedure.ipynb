{
 "cells": [
  {
   "cell_type": "code",
   "execution_count": 39,
   "id": "f00af60e",
   "metadata": {},
   "outputs": [],
   "source": [
    "# cursor.execute(\"DROP PROCEDURE IF EXISTS PeakHours\")\n",
    "# cursor.execute(\"DROP PROCEDURE IF EXISTS GuestStatus;\")"
   ]
  },
  {
   "cell_type": "code",
   "execution_count": null,
   "id": "eb8a8695",
   "metadata": {
    "scrolled": true
   },
   "outputs": [],
   "source": [
    "# Implement and query stored procedures\n",
    "\"\"\"\"\n",
    "In this exercise you must create a pool of connections and \n",
    "get a connection from the pool to implement the stored procedures to complete the following tasks:\n",
    "\n",
    "Establish a connection by importing MySQLConnectionPool and creating a pool with two connections.\n",
    "\n",
    "Create and call a stored procedure named PeakHours that \n",
    "identifies the peak, or busiest hour, for the restaurant based on the number of bookings.\n",
    "\n",
    "Create and call a stored procedure named GuestStatus that \n",
    "outputs status of each guest’s order based on which employee is assigned to the order.\n",
    "\n",
    "Stored procedures are created to carry out routine operations on MySQL databases. \n",
    "They are consistent and make sure that the written SQL queries in the procedures are executed in the same way every time you call the stored procedure.\n",
    "\n",
    "A stored procedure is created only once, and you store it in the MySQL database. \n",
    "You can call the stored procedures as many times as you need in your Python-based application.\n",
    "\n",
    "The tasks and the steps that you must follow to complete each one are as follows:\n",
    "\"\"\""
   ]
  },
  {
   "cell_type": "code",
   "execution_count": null,
   "id": "14242711",
   "metadata": {},
   "outputs": [],
   "source": [
    "# Task 1: Establish a connection "
   ]
  },
  {
   "cell_type": "code",
   "execution_count": 1,
   "id": "9d5a5aa2",
   "metadata": {},
   "outputs": [
    {
     "name": "stdout",
     "output_type": "stream",
     "text": [
      "Requirement already satisfied: mysql-connector-python in c:\\users\\mingt\\anaconda3\\lib\\site-packages (8.1.0)\n",
      "Requirement already satisfied: protobuf<=4.21.12,>=4.21.1 in c:\\users\\mingt\\anaconda3\\lib\\site-packages (from mysql-connector-python) (4.21.12)\n"
     ]
    }
   ],
   "source": [
    "# Step one: Import MySQLConnectionPool\n",
    "#install connector api using the command below.\n",
    "!pip install mysql-connector-python\n",
    "from mysql.connector.pooling import MySQLConnectionPool"
   ]
  },
  {
   "cell_type": "code",
   "execution_count": 2,
   "id": "359b8fd5",
   "metadata": {},
   "outputs": [],
   "source": [
    "# Step two: Import Error\n",
    "\n",
    "from mysql.connector import Error"
   ]
  },
  {
   "cell_type": "code",
   "execution_count": 3,
   "id": "783894ab",
   "metadata": {},
   "outputs": [
    {
     "name": "stdout",
     "output_type": "stream",
     "text": [
      "The connection pool is created with a name:  pool_a\n",
      "The pool size is: 3\n"
     ]
    }
   ],
   "source": [
    "# Step three: Create a pool named pool_a with two connections.\n",
    "# Use a try-except block to handle any possible errors. \n",
    "\n",
    "# database configuration; High PII changed after running\n",
    "dbconfig={\n",
    "    \"database\":\"little_lemon_db\", \n",
    "    \"user\":\"<USERNAME>\", \n",
    "    \"password\":\"<password>\"\n",
    "}\n",
    "\n",
    "try:\n",
    "    pool = MySQLConnectionPool(pool_name = \"pool_a\",\n",
    "                           pool_size = 3, #default is 5\n",
    "                           **dbconfig)\n",
    "    print(\"The connection pool is created with a name: \",pool.pool_name)\n",
    "    print(\"The pool size is:\",pool.pool_size)\n",
    "\n",
    "except Error as er:\n",
    "    print(\"Error code:\", er.errno)\n",
    "    print(\"Error message:\", er.msg)"
   ]
  },
  {
   "cell_type": "code",
   "execution_count": 4,
   "id": "7163b3fd",
   "metadata": {},
   "outputs": [
    {
     "name": "stdout",
     "output_type": "stream",
     "text": [
      "MySQL server version is: 8.0.40\n"
     ]
    }
   ],
   "source": [
    "# Step four: Obtain a connection from pool_a and \n",
    "# create a cursor object to communicate with the database.\n",
    "\n",
    "# Obtain a connection from pool_a\n",
    "connection_1 = pool.get_connection()\n",
    "connection_1.connection_id\n",
    "print(\"MySQL server version is:\", connection_1.get_server_info())\n",
    "\n",
    "# Create a cursor object to communicate with the database.\n",
    "cursor = connection_1.cursor()"
   ]
  },
  {
   "cell_type": "code",
   "execution_count": 5,
   "id": "5204db87",
   "metadata": {},
   "outputs": [
    {
     "name": "stdout",
     "output_type": "stream",
     "text": [
      "Table: bookings\n",
      "Table: employees\n",
      "Table: menuitems\n",
      "Table: menus\n",
      "Table: orders\n"
     ]
    }
   ],
   "source": [
    "# Recae tables in Database \"little_lemon\"\n",
    "cursor.execute(\"SHOW TABLES\")\n",
    "results = cursor.fetchall()\n",
    "for i in results:\n",
    "    # print(i); drop_query = \"DROP TABLE IF EXISTS \" + i[0];\n",
    "    print(\"Table: \" + i[0])"
   ]
  },
  {
   "cell_type": "code",
   "execution_count": 21,
   "id": "d2201e0e",
   "metadata": {},
   "outputs": [],
   "source": [
    "# Task 2: Implement a stored procedure called PeakHours\n",
    "\n",
    "#Step one: Write a SQL CREATE PROCEDURE query for PeakHours\n",
    "# Use HOUR to extract the hour part from the BookingSlot.\n",
    "# Use COUNT on hour to count the number of bookings.\n",
    "# Use GROUP BY on booking hour.\n",
    "# Use ORDER BY on the number of bookings in descending order.\n",
    "\n",
    "query_PeakHours =\"\"\"\n",
    "CREATE PROCEDURE PeakHours()\n",
    "BEGIN\n",
    "SELECT HOUR(BookingSlot) AS Hour, COUNT(HOUR(BookingSlot)) AS n_Hour\n",
    "FROM Bookings\n",
    "GROUP BY Hour\n",
    "ORDER BY n_Hour DESC;\n",
    "END\n",
    "\"\"\"\n",
    "# Step two: Run the stored procedure query by invoking execute module on the cursor.\n",
    "cursor.execute(query_PeakHours)"
   ]
  },
  {
   "cell_type": "code",
   "execution_count": 6,
   "id": "8b0fb415",
   "metadata": {},
   "outputs": [],
   "source": [
    "# Step three: Invoke callproc to call the stored procedure.\n",
    "cursor.callproc(\"PeakHours\")\n",
    "\n",
    "# Step four: Fetch the results in a variable called dataset.\n",
    "results = next( cursor.stored_results() )\n",
    "dataset = results.fetchall()"
   ]
  },
  {
   "cell_type": "code",
   "execution_count": 7,
   "id": "f2e42296",
   "metadata": {},
   "outputs": [
    {
     "name": "stdout",
     "output_type": "stream",
     "text": [
      "['Hour', 'n_Hour']\n"
     ]
    }
   ],
   "source": [
    "# Step five: Extract the names of the columns.\n",
    "# Step six: Print the names of the columns.\n",
    "for column_id in cursor.stored_results():\n",
    "    columns = [ column[0] for column in column_id.description ]\n",
    "print(columns)"
   ]
  },
  {
   "cell_type": "code",
   "execution_count": 8,
   "id": "39f16c45",
   "metadata": {},
   "outputs": [
    {
     "name": "stdout",
     "output_type": "stream",
     "text": [
      "(19, 2)\n",
      "(15, 1)\n",
      "(17, 1)\n",
      "(18, 1)\n",
      "(20, 1)\n"
     ]
    }
   ],
   "source": [
    "# Step seven: Print the sorted data using for loop.\n",
    "for i in dataset:\n",
    "    print(i)"
   ]
  },
  {
   "cell_type": "code",
   "execution_count": 9,
   "id": "6e4e411d",
   "metadata": {},
   "outputs": [
    {
     "name": "stdout",
     "output_type": "stream",
     "text": [
      "Hour:  2 <<>> 19 Booking/s\n",
      "Hour:  1 <<>> 15 Booking/s\n",
      "Hour:  1 <<>> 17 Booking/s\n",
      "Hour:  1 <<>> 18 Booking/s\n",
      "Hour:  1 <<>> 20 Booking/s\n"
     ]
    }
   ],
   "source": [
    "for result in dataset:\n",
    "    print(\"Hour: \",result[1],\"<<>>\", result[0], \"Booking/s\")"
   ]
  },
  {
   "cell_type": "code",
   "execution_count": 10,
   "id": "ea6f77fc",
   "metadata": {},
   "outputs": [
    {
     "name": "stdout",
     "output_type": "stream",
     "text": [
      "('BookingID', b'int', 'NO', 'PRI', None, 'auto_increment')\n",
      "('TableNo', b'int', 'YES', '', None, '')\n",
      "('GuestFirstName', b'varchar(100)', 'NO', '', None, '')\n",
      "('GuestLastName', b'varchar(100)', 'NO', '', None, '')\n",
      "('BookingSlot', b'time', 'NO', '', None, '')\n",
      "('EmployeeID', b'int', 'YES', '', None, '')\n"
     ]
    }
   ],
   "source": [
    "# RECAP Bookings\n",
    "cursor.execute(\"DESC Bookings\")\n",
    "desc_Bookings = cursor.fetchall()\n",
    "for i in desc_Bookings:\n",
    "    print(i)"
   ]
  },
  {
   "cell_type": "code",
   "execution_count": 11,
   "id": "2699c40f",
   "metadata": {},
   "outputs": [
    {
     "name": "stdout",
     "output_type": "stream",
     "text": [
      "('EmployeeID', b'int', 'NO', 'PRI', None, 'auto_increment')\n",
      "('Name', b'varchar(255)', 'YES', '', None, '')\n",
      "('Role', b'varchar(100)', 'YES', '', None, '')\n",
      "('Address', b'varchar(255)', 'YES', '', None, '')\n",
      "('Contact_Number', b'int', 'YES', '', None, '')\n",
      "('Email', b'varchar(255)', 'YES', '', None, '')\n",
      "('Annual_Salary', b'varchar(100)', 'YES', '', None, '')\n"
     ]
    }
   ],
   "source": [
    "# RECAP Employees\n",
    "cursor.execute(\"DESC Employees\")\n",
    "desc_Employees = cursor.fetchall()\n",
    "for i in desc_Employees:\n",
    "    print(i)"
   ]
  },
  {
   "cell_type": "code",
   "execution_count": 12,
   "id": "7ead6298",
   "metadata": {},
   "outputs": [
    {
     "data": {
      "text/plain": [
       "('Field', 'Type', 'Null', 'Key', 'Default', 'Extra')"
      ]
     },
     "execution_count": 12,
     "metadata": {},
     "output_type": "execute_result"
    }
   ],
   "source": [
    "cursor.column_names"
   ]
  },
  {
   "cell_type": "code",
   "execution_count": 16,
   "id": "09f06bbb",
   "metadata": {},
   "outputs": [],
   "source": [
    "cursor.execute(\"DROP PROCEDURE GuestStatus\")"
   ]
  },
  {
   "cell_type": "code",
   "execution_count": 17,
   "id": "e9aa16d2",
   "metadata": {},
   "outputs": [],
   "source": [
    "# Task 3: Implement a stored procedure GuestStatus\n",
    "# Step one: Write a SQL CREATE PROCEDURE query for GuestStatus.\n",
    "# Step two: Combine the guest’s first and last name from the booking column using CONCAT. \n",
    "\n",
    "# Step three: Use CASE to implement the following statuses for each guest’s order:\n",
    "# If the Role in the Employee table is Manager or Assistant Manager then the guest’s order status is Ready to pay\n",
    "# If the Role in the Employee table is Head Chef then the status is Ready to serve\n",
    "# If the Role in the Employee table is Assistant Chef then the status is Preparing Order\n",
    "# If the Role in the Employee table is Head Waiter then the status is Order served\n",
    "\n",
    "# Step four: LEFT JOIN Bookings table with Employees ON EmployeeID\n",
    "# Step five: Run the stored procedure query by invoking execute module on the cursor.\n",
    "\n",
    "query_GuestStatus =\"\"\"\n",
    "CREATE PROCEDURE GuestStatus()\n",
    "BEGIN\n",
    "SELECT \n",
    "CONCAT(Bookings.GuestFirstname, ' ', Bookings.GuestLastname) AS GuestFullName,\n",
    "CASE \n",
    "WHEN Role IN ('Manager', 'Assistant Manager') THEN \"Ready to serve\"\n",
    "WHEN Role IN ('Head Chef') THEN \"Ready to pay\"\n",
    "WHEN Role IN ('Assistant Chef', 'Assistant Manager') THEN \"Preparing Order\"\n",
    "WHEN Role IN ('Head Waiter') THEN \"Order served\"\n",
    "ELSE \"UNKNOWN STATUS\"\n",
    "END AS Status\n",
    "FROM Bookings\n",
    "LEFT JOIN Employees\n",
    "ON Bookings.EmployeeID = Employees.EmployeeID;\n",
    "END\n",
    "\"\"\"\n",
    "# Step two: Run the stored procedure query by invoking execute module on the cursor.\n",
    "cursor.execute(query_GuestStatus)"
   ]
  },
  {
   "cell_type": "code",
   "execution_count": 13,
   "id": "7d86c07f",
   "metadata": {},
   "outputs": [
    {
     "name": "stdout",
     "output_type": "stream",
     "text": [
      "['GuestFullName', 'Status']\n"
     ]
    }
   ],
   "source": [
    "# Step six: Invoke callproc to call the stored procedure.\n",
    "cursor.callproc(\"GuestStatus\")\n",
    "results = next( cursor.stored_results() )\n",
    "\n",
    "# Step seven: Fetch the results in a variable called dataset.\n",
    "dataset = results.fetchall()\n",
    "\n",
    "# Step eight: Extract the names of the columns.\n",
    "for column_id in cursor.stored_results():\n",
    "    columns = [ column[0] for column in column_id.description ]\n",
    "\n",
    "# Step nine: Print the names of the columns.\n",
    "print(columns)"
   ]
  },
  {
   "cell_type": "code",
   "execution_count": 15,
   "id": "a1ae704b",
   "metadata": {},
   "outputs": [
    {
     "name": "stdout",
     "output_type": "stream",
     "text": [
      "('Anna Iversen', 'Ready to serve')\n",
      "('Joakim Iversen', 'Ready to serve')\n",
      "('Vanessa McCarthy', 'Ready to pay')\n",
      "('Marcos Romero', 'Preparing Order')\n",
      "('Hiroki Yamane', 'Ready to serve')\n",
      "('Diana Pinto', 'Order served')\n"
     ]
    }
   ],
   "source": [
    "# Step ten: Print the sorted data using for loop.\n",
    "\n",
    "for row_i in dataset:\n",
    "    print(row_i)"
   ]
  },
  {
   "cell_type": "code",
   "execution_count": 16,
   "id": "d0c46868",
   "metadata": {},
   "outputs": [
    {
     "name": "stdout",
     "output_type": "stream",
     "text": [
      "The cursor is closed.\n",
      "MySQL connection is closed.\n"
     ]
    }
   ],
   "source": [
    "# Step eleven: Close the connection to return it back to the pool.\n",
    "if connection_1.is_connected():\n",
    "    cursor.close()\n",
    "    print(\"The cursor is closed.\")\n",
    "    connection_1.close()\n",
    "    print(\"MySQL connection is closed.\")\n",
    "else:\n",
    "    print(\"Connection is already closed\")"
   ]
  }
 ],
 "metadata": {
  "kernelspec": {
   "display_name": "Python 3",
   "language": "python",
   "name": "python3"
  },
  "language_info": {
   "codemirror_mode": {
    "name": "ipython",
    "version": 3
   },
   "file_extension": ".py",
   "mimetype": "text/x-python",
   "name": "python",
   "nbconvert_exporter": "python",
   "pygments_lexer": "ipython3",
   "version": "3.8.8"
  }
 },
 "nbformat": 4,
 "nbformat_minor": 5
}
